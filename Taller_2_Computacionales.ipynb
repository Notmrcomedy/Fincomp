{
  "nbformat": 4,
  "nbformat_minor": 0,
  "metadata": {
    "colab": {
      "provenance": [],
      "authorship_tag": "ABX9TyPQRaveBWsD5d9qLkNyok0c",
      "include_colab_link": true
    },
    "kernelspec": {
      "name": "python3",
      "display_name": "Python 3"
    },
    "language_info": {
      "name": "python"
    }
  },
  "cells": [
    {
      "cell_type": "markdown",
      "metadata": {
        "id": "view-in-github",
        "colab_type": "text"
      },
      "source": [
        "<a href=\"https://colab.research.google.com/github/Notmrcomedy/Fincomp/blob/main/Taller_2_Computacionales.ipynb\" target=\"_parent\"><img src=\"https://colab.research.google.com/assets/colab-badge.svg\" alt=\"Open In Colab\"/></a>"
      ]
    },
    {
      "cell_type": "markdown",
      "source": [
        "Juan José Morales\n",
        "\n",
        "Ana María Duarte"
      ],
      "metadata": {
        "id": "aq5E-6hsjfnN"
      }
    },
    {
      "cell_type": "code",
      "execution_count": null,
      "metadata": {
        "id": "rBZphzXei1oF"
      },
      "outputs": [],
      "source": [
        "import numpy as np\n",
        "import pandas as pd\n",
        "import matplotlib.pyplot as plt\n",
        "from scipy.optimize import minimize\n",
        "from scipy.optimize import linprog\n",
        "import cvxpy as cp"
      ]
    },
    {
      "cell_type": "code",
      "source": [
        "c1 = np.array([3,5])\n",
        "A1 = np.array([[1,1],\n",
        "               [2,4],\n",
        "               [1,2]])\n",
        "b1 = np.array([500,1000,2000])\n",
        "bounds1 = [(100,None),\n",
        "           (150,None)]\n",
        "res1 = linprog(-c1,A_ub=A1,b_ub=b1,bounds=bounds1,method=\"revised simplex\")\n",
        "res1"
      ],
      "metadata": {
        "colab": {
          "base_uri": "https://localhost:8080/"
        },
        "id": "QtYdI3dxjnNS",
        "outputId": "f4442d22-9723-47bd-bc4c-999dc0cf528c"
      },
      "execution_count": 19,
      "outputs": [
        {
          "output_type": "stream",
          "name": "stderr",
          "text": [
            "<ipython-input-19-4cbb825fa805>:8: DeprecationWarning: `method='revised simplex'` is deprecated and will be removed in SciPy 1.11.0. Please use one of the HiGHS solvers (e.g. `method='highs'`) in new code.\n",
            "  res1 = linprog(-c1,A_ub=A1,b_ub=b1,bounds=bounds1,method=\"revised simplex\")\n"
          ]
        },
        {
          "output_type": "execute_result",
          "data": {
            "text/plain": [
              " message: Optimization terminated successfully.\n",
              " success: True\n",
              "  status: 0\n",
              "     fun: -1350.0\n",
              "       x: [ 2.000e+02  1.500e+02]\n",
              "     nit: 2"
            ]
          },
          "metadata": {},
          "execution_count": 19
        }
      ]
    },
    {
      "cell_type": "code",
      "source": [
        "print(round(pd.DataFrame(res1.x),2)) "
      ],
      "metadata": {
        "colab": {
          "base_uri": "https://localhost:8080/"
        },
        "id": "Z_g8ezj4iBq4",
        "outputId": "c3343d9b-1d65-47a8-d802-58e6eacdb84c"
      },
      "execution_count": 20,
      "outputs": [
        {
          "output_type": "stream",
          "name": "stdout",
          "text": [
            "       0\n",
            "0  200.0\n",
            "1  150.0\n"
          ]
        }
      ]
    },
    {
      "cell_type": "markdown",
      "source": [
        "Las cantidades de los productos A y B que maximizan las ganancias de la empresa XYZ  son 200 y 150 respectivamente, que generan una ganancia de 1350 dólares"
      ],
      "metadata": {
        "id": "z0gjoV_eh7tW"
      }
    },
    {
      "cell_type": "markdown",
      "source": [
        "Punto 2"
      ],
      "metadata": {
        "id": "KYXkOAHOsUya"
      }
    },
    {
      "cell_type": "code",
      "source": [
        "c2 = np.array([0.1,0.15,0.16,0.08])\n",
        "A2 = np.array([[1,1,1,1]])\n",
        "b2 = np.array([1])\n",
        "D2 = np.array([[0.5,0.3,0.25,0.6],\n",
        "              [0.3,0.1,0.4,0.2],\n",
        "              [0.2,0.6,0.35,0.2]])\n",
        "d2 = np.array([0.35,0.30,0.35])\n",
        "bounds2 = [(0,None),\n",
        "           (0,None),\n",
        "           (0,None),\n",
        "           (0,None)]\n",
        "res2 = linprog(-c2,A_eq=A2,b_eq=b2,A_ub=D2,b_ub=d2,bounds=bounds2,method=\"revised simplex\")\n",
        "res2.fun*-100\n"
      ],
      "metadata": {
        "colab": {
          "base_uri": "https://localhost:8080/"
        },
        "id": "EmbIiFCGjILt",
        "outputId": "b4c91d31-6cba-4675-de86-761b1b41c710"
      },
      "execution_count": 24,
      "outputs": [
        {
          "output_type": "stream",
          "name": "stderr",
          "text": [
            "<ipython-input-24-1c7962813c09>:12: DeprecationWarning: `method='revised simplex'` is deprecated and will be removed in SciPy 1.11.0. Please use one of the HiGHS solvers (e.g. `method='highs'`) in new code.\n",
            "  res2 = linprog(-c2,A_eq=A2,b_eq=b2,A_ub=D2,b_ub=d2,bounds=bounds2,method=\"revised simplex\")\n"
          ]
        },
        {
          "output_type": "execute_result",
          "data": {
            "text/plain": [
              "13.736842105263158"
            ]
          },
          "metadata": {},
          "execution_count": 24
        }
      ]
    },
    {
      "cell_type": "code",
      "source": [
        "n2 = 4\n",
        "x2=cp.Variable(n2)\n",
        "objetivo2 = cp.Minimize(-c2@x2)\n",
        "restricciones2=[A2@x2==b2,D2@x2>=d2,x2>=0]\n",
        "prob = cp.Problem(objetivo2,restricciones2)\n",
        "prob.solve()\n",
        "print(round(100*pd.DataFrame(x2.value),2))\n"
      ],
      "metadata": {
        "id": "LWq7TJLAtM_E",
        "colab": {
          "base_uri": "https://localhost:8080/"
        },
        "outputId": "c0a62858-3a4b-4d91-92e9-c790d5102f7f"
      },
      "execution_count": null,
      "outputs": [
        {
          "output_type": "stream",
          "name": "stdout",
          "text": [
            "       0\n",
            "0   0.00\n",
            "1  15.79\n",
            "2  57.89\n",
            "3  26.32\n"
          ]
        }
      ]
    },
    {
      "cell_type": "markdown",
      "source": [
        "Para llegar a un retorno esperado máximo de 13.74%, los pesos asignados a cada uno de los fondos deberían ser los siguientes:\n",
        "**Fondo 1:** No se invierte\n",
        "**Fondo 2:** Se invierte un 15.79%\n",
        "**Fondo 3:** Se invierte un 57.89%\n",
        "**Fondo 4:** Se invierte un 26.32%"
      ],
      "metadata": {
        "id": "MOc2v9FWjsyD"
      }
    },
    {
      "cell_type": "markdown",
      "source": [
        "Punto 3\n"
      ],
      "metadata": {
        "id": "ke8r4MN1G4KF"
      }
    },
    {
      "cell_type": "code",
      "source": [
        "c3 = np.array([0,0,0,0,0,0,0,0,0,0,0,0,0,1])\n",
        "A3 = np.array([[1,0,0,0,0,1,0,0,-1,0,0,0,0,0],\n",
        "               [-1.01,1,0,0,0,0,1,0,1.003,-1,0,0,0,0],\n",
        "               [0,-1.01,1,0,0,0,0,1,0,1.003,-1,0,0,0],\n",
        "               [0,0,-1.01,1,0,-1.02,0,0,0,0,1.003,-1,0,0],\n",
        "               [0,0,0,-1.01,1,0,-1.02,0,0,0,0,1.003,-1,0],\n",
        "               [0,0,0,0,-1.01,0,0,-1.02,0,0,0,0,1.003,-1]\n",
        "               ])\n",
        "b3= np.array([150,100,-200,200,-50,-300])\n",
        "bounds3 = [(0,100),\n",
        "           (0,100),\n",
        "           (0,100),\n",
        "           (0,100),\n",
        "           (0,100),\n",
        "           (0,None),\n",
        "           (0,None),\n",
        "           (0,None),\n",
        "           (0,None),\n",
        "           (0,None),\n",
        "           (0,None),\n",
        "           (0,None),\n",
        "           (0,None),\n",
        "           (0,None)]\n",
        "           \n",
        "res3 = linprog(-c3,A_eq=A3,b_eq=b3,bounds=bounds3,method=\"revised simplex\")\n",
        "res3.x"
      ],
      "metadata": {
        "id": "uqtyPW1dG5U2",
        "colab": {
          "base_uri": "https://localhost:8080/"
        },
        "outputId": "398dd280-831b-4280-feea-b94ca3f77356"
      },
      "execution_count": 30,
      "outputs": [
        {
          "output_type": "stream",
          "name": "stderr",
          "text": [
            "<ipython-input-30-9a086b7e7816>:25: DeprecationWarning: `method='revised simplex'` is deprecated and will be removed in SciPy 1.11.0. Please use one of the HiGHS solvers (e.g. `method='highs'`) in new code.\n",
            "  res3 = linprog(-c3,A_eq=A3,b_eq=b3,bounds=bounds3,method=\"revised simplex\")\n"
          ]
        },
        {
          "output_type": "execute_result",
          "data": {
            "text/plain": [
              "array([  0.        ,  50.98039216,   0.        ,   0.        ,\n",
              "         0.        , 150.        ,  49.01960784, 203.43436358,\n",
              "         0.        ,   0.        , 351.9441675 ,   0.        ,\n",
              "         0.        ,  92.49694915])"
            ]
          },
          "metadata": {},
          "execution_count": 30
        }
      ]
    },
    {
      "cell_type": "code",
      "source": [
        "n3=14\n",
        "x3=cp.Variable(n3)\n",
        "objetivo3 = cp.Minimize(-c3@x3)\n",
        "restricciones3=[A3@x3==b3,x3>=0,x3[0:5]<=100]\n",
        "prob = cp.Problem(objetivo3,restricciones3)\n",
        "prob.solve(cp.GLPK_MI)\n",
        "print(round(pd.DataFrame(x3.value),2))\n",
        "#prob.solve(cp.GLPK_MI)"
      ],
      "metadata": {
        "colab": {
          "base_uri": "https://localhost:8080/"
        },
        "id": "1qzr_8BuAMa0",
        "outputId": "a5cc1a3e-3929-4bf6-c59a-24e103038cfc"
      },
      "execution_count": 34,
      "outputs": [
        {
          "output_type": "stream",
          "name": "stdout",
          "text": [
            "         0\n",
            "0    -0.00\n",
            "1    50.98\n",
            "2    -0.00\n",
            "3    -0.00\n",
            "4    -0.00\n",
            "5   150.00\n",
            "6    49.02\n",
            "7   203.43\n",
            "8    -0.00\n",
            "9    -0.00\n",
            "10  351.94\n",
            "11   -0.00\n",
            "12   -0.00\n",
            "13   92.50\n"
          ]
        }
      ]
    },
    {
      "cell_type": "markdown",
      "source": [
        "Para maximizar el efectivo en el mes 6, llegando a un valor de 92.5 millones, se prefiere la emisión de bonos sobre el crédito, solo se tiene que solicitar un préstamo por la línea de crédito en el mes 2, de un monto correspondiente a 50,98 millones, lo que significaría un pago de intereses bancarios de 0,5098 millones a lo largo de los 6 meses."
      ],
      "metadata": {
        "id": "OttcUreulEIL"
      }
    },
    {
      "cell_type": "markdown",
      "source": [
        "Punto 4"
      ],
      "metadata": {
        "id": "BSL33RnU2u5G"
      }
    },
    {
      "cell_type": "code",
      "source": [
        "rn = ((0.0002-0.0001)+1)**7\n",
        "c4 = np.array([0,0,0,0,0,0,0,1])\n",
        "A4 = np.array([[1,0,0,0,-1,0,0,0],\n",
        "               [0,1,0,0,rn,-1,0,0],\n",
        "               [0,0,1,0,0,rn,-1,0],\n",
        "               [0,0,0,1,0,0,rn,-1]])\n",
        "b4 = np.array([150,-100,-50,200])\n",
        "res4 = linprog(-c4,A_eq=A4,b_eq=-b4,method=\"revised simplex\")\n",
        "-res4.fun"
      ],
      "metadata": {
        "id": "GPdXqx2a2wmD",
        "colab": {
          "base_uri": "https://localhost:8080/"
        },
        "outputId": "de198a26-2690-46f3-98ee-0dfc0586779c"
      },
      "execution_count": 37,
      "outputs": [
        {
          "output_type": "stream",
          "name": "stderr",
          "text": [
            "<ipython-input-37-d839a19e0b2d>:8: DeprecationWarning: `method='revised simplex'` is deprecated and will be removed in SciPy 1.11.0. Please use one of the HiGHS solvers (e.g. `method='highs'`) in new code.\n",
            "  res4 = linprog(-c4,A_eq=A4,b_eq=-b4,method=\"revised simplex\")\n"
          ]
        },
        {
          "output_type": "execute_result",
          "data": {
            "text/plain": [
              "200.14021366142958"
            ]
          },
          "metadata": {},
          "execution_count": 37
        }
      ]
    },
    {
      "cell_type": "code",
      "source": [
        "print(round(pd.DataFrame(res4.x),2))"
      ],
      "metadata": {
        "colab": {
          "base_uri": "https://localhost:8080/"
        },
        "id": "hrJUzOcwroba",
        "outputId": "504296df-6248-4eba-ec8e-a1d7df7211a4"
      },
      "execution_count": 36,
      "outputs": [
        {
          "output_type": "stream",
          "name": "stdout",
          "text": [
            "        0\n",
            "0    0.00\n",
            "1    0.00\n",
            "2    0.00\n",
            "3    0.00\n",
            "4  150.00\n",
            "5   50.11\n",
            "6    0.14\n",
            "7  200.14\n"
          ]
        }
      ]
    },
    {
      "cell_type": "markdown",
      "source": [
        "Para llegar a una rentabilidad máxima a final del mes de 200.14 millones, sin dejar de  responder por sus pagos, se debe hacer una inversión en el instrumento de corto plazo de 150 millones en el primer mes, 50.11 millones en el segundo y 0.14 millones en el tercero\n",
        "\n",
        "---\n",
        "\n"
      ],
      "metadata": {
        "id": "qBpErEubsPUL"
      }
    },
    {
      "cell_type": "markdown",
      "source": [
        "Punto 5"
      ],
      "metadata": {
        "id": "ot7lArfb2xAj"
      }
    },
    {
      "cell_type": "code",
      "source": [
        "c5 = np.array([5,8,10,0,0,0])\n",
        "A5 = ([[1,1,1,0,0,0],\n",
        "      [0,0,0,1,1,1]])\n",
        "b5 = np.array([10000,1000])\n",
        "D5 = np.array([[1,0,0,0,0,0],\n",
        "               [0,0,0,0,1,0],\n",
        "               [0,0,0,0,0,1]])\n",
        "\n",
        "d5 = np.array([2000,300,250])\n",
        "res5 = linprog(-c5,A_eq=A5,b_eq=b5,A_ub=-D5,b_ub=-d5,method=\"simplex\")\n",
        "res5\n"
      ],
      "metadata": {
        "colab": {
          "base_uri": "https://localhost:8080/"
        },
        "id": "SN66XC612yia",
        "outputId": "282251cf-b991-45f5-e842-6fb2325ee0f3"
      },
      "execution_count": 39,
      "outputs": [
        {
          "output_type": "stream",
          "name": "stderr",
          "text": [
            "<ipython-input-39-501c5f782d57>:10: DeprecationWarning: `method='simplex'` is deprecated and will be removed in SciPy 1.11.0. Please use one of the HiGHS solvers (e.g. `method='highs'`) in new code.\n",
            "  res5 = linprog(-c5,A_eq=A5,b_eq=b5,A_ub=-D5,b_ub=-d5,method=\"simplex\")\n"
          ]
        },
        {
          "output_type": "execute_result",
          "data": {
            "text/plain": [
              " message: Optimization terminated successfully.\n",
              " success: True\n",
              "  status: 0\n",
              "     fun: -90000.0\n",
              "       x: [ 2.000e+03  0.000e+00  8.000e+03  4.500e+02  3.000e+02\n",
              "            2.500e+02]\n",
              "     nit: 3"
            ]
          },
          "metadata": {},
          "execution_count": 39
        }
      ]
    },
    {
      "cell_type": "markdown",
      "source": [
        "Para alcanzar una ganancia máxima de 90000$ se le deben asignar 2000 millones de capital y 450 horas de trabajo a  ventas, nada capital pero 300 horas de trabajo a marketing y 8000 millones de capital con 250 horas de trabajo a producción."
      ],
      "metadata": {
        "id": "Z2Gi_PM524Vb"
      }
    },
    {
      "cell_type": "markdown",
      "source": [
        "Punto 6"
      ],
      "metadata": {
        "id": "nOoU8EZRnlPk"
      }
    },
    {
      "cell_type": "code",
      "source": [
        "c6 = np.array([[4,5,6,8,10],\n",
        "               [6,4,3,5,8],\n",
        "               [9,7,4,3,4]])\n",
        "b6 = np.array([500,500,500])\n",
        "d6 = np.array([80,270,250,160,180])\n",
        "x6=cp.Variable((3,5),nonneg=True)\n",
        "m=np.array([1000,1000,1000])\n",
        "y6 = cp.Variable(3,boolean=True)\n",
        "obj6 = cp.sum(cp.multiply(c6,x6))+cp.sum(cp.multiply(m,y6))\n",
        "objetivo6 = cp.Minimize(obj6)\n",
        "restricciones6=[cp.sum(x6[0,:])<=b6[0]*y6[0],cp.sum(x6[1,:])<=b6[1]*y6[1],cp.sum(x6[2,:])<=b6[2]*y6[2],\n",
        "                cp.sum(x6[:,0])==d6[0],cp.sum(x6[:,1])==d6[1],cp.sum(x6[:,2])==d6[2],cp.sum(x6[:,3])==d6[3],cp.sum(x6[:,4])==d6[4],\n",
        "                cp.sum(y6)==2]\n",
        "prob = cp.Problem(objetivo6,restricciones6)\n",
        "prob.solve()\n",
        "print(round(pd.DataFrame(x6.value),2))\n"
      ],
      "metadata": {
        "colab": {
          "base_uri": "https://localhost:8080/"
        },
        "id": "It9e2_3UtpRd",
        "outputId": "f3f01198-5019-4f4f-8e6a-c7759656b71e"
      },
      "execution_count": 8,
      "outputs": [
        {
          "output_type": "stream",
          "name": "stdout",
          "text": [
            "      0      1      2      3      4\n",
            "0  -0.0   -0.0   -0.0   -0.0   -0.0\n",
            "1  80.0  270.0  150.0   -0.0   -0.0\n",
            "2  -0.0   -0.0  100.0  160.0  180.0\n"
          ]
        }
      ]
    },
    {
      "cell_type": "markdown",
      "source": [
        "Para minimizar sus costos de funcionamiento y transporte la empresa debe en primera instancia cerrar una de las 3 plantas, ya que la cantidad producida por 2, es más que suficiente para suplir la demanda y mantener las 3 abiertas generaría un coste adicional innecesario. En este sentido, se encontró que cerrando la instalación 1 se minimizan los costos de funcionamiento, además para optimizar los costos de transporte se encontró que la mejor forma para satisfacer las demandas de los 5 puntosy minimizar los costos es que la planta 2 produzca 80 unidades para el punto 1, 270 para el punto 2 y 150 para el punto 3, mientras que la planta 3 debería producir 100 unidades para el punto 3, 160 unidades para el punto 4 y 180 para el punto 5"
      ],
      "metadata": {
        "id": "EpPb_xlutdZc"
      }
    }
  ]
}